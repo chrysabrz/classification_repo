{
 "cells": [
  {
   "cell_type": "code",
   "execution_count": 1,
   "metadata": {},
   "outputs": [
    {
     "name": "stdout",
     "output_type": "stream",
     "text": [
      "Requirement already satisfied: diffprivlib in c:\\users\\msi\\appdata\\local\\programs\\python\\python312\\lib\\site-packages (0.6.4)\n",
      "Requirement already satisfied: numpy>=1.21.6 in c:\\users\\msi\\appdata\\local\\programs\\python\\python312\\lib\\site-packages (from diffprivlib) (1.26.4)\n",
      "Requirement already satisfied: scikit-learn>=0.24.2 in c:\\users\\msi\\appdata\\local\\programs\\python\\python312\\lib\\site-packages (from diffprivlib) (1.5.0)\n",
      "Requirement already satisfied: scipy>=1.7.3 in c:\\users\\msi\\appdata\\local\\programs\\python\\python312\\lib\\site-packages (from diffprivlib) (1.13.1)\n",
      "Requirement already satisfied: joblib>=0.16.0 in c:\\users\\msi\\appdata\\local\\programs\\python\\python312\\lib\\site-packages (from diffprivlib) (1.4.2)\n",
      "Requirement already satisfied: setuptools>=49.0.0 in c:\\users\\msi\\appdata\\local\\programs\\python\\python312\\lib\\site-packages (from diffprivlib) (70.0.0)\n",
      "Requirement already satisfied: threadpoolctl>=3.1.0 in c:\\users\\msi\\appdata\\local\\programs\\python\\python312\\lib\\site-packages (from scikit-learn>=0.24.2->diffprivlib) (3.5.0)\n",
      "Note: you may need to restart the kernel to use updated packages.\n"
     ]
    },
    {
     "name": "stderr",
     "output_type": "stream",
     "text": [
      "\n",
      "[notice] A new release of pip is available: 24.0 -> 24.1.2\n",
      "[notice] To update, run: python.exe -m pip install --upgrade pip\n"
     ]
    }
   ],
   "source": [
    "pip install diffprivlib"
   ]
  },
  {
   "cell_type": "code",
   "execution_count": 7,
   "metadata": {},
   "outputs": [],
   "source": [
    "import numpy as np\n",
    "import pandas as pd\n",
    "import seaborn as sns\n",
    "import diffprivlib\n",
    "import matplotlib.pyplot as plt\n",
    "from sklearn.preprocessing import scale, StandardScaler\n",
    "from sklearn.model_selection import train_test_split, GridSearchCV, cross_val_score\n",
    "from sklearn.metrics import confusion_matrix, accuracy_score, mean_squared_error, r2_score, roc_auc_score, roc_curve, classification_report, auc\n",
    "from sklearn.linear_model import LogisticRegression\n",
    "from sklearn.neighbors import KNeighborsClassifier\n",
    "from sklearn.decomposition import PCA\n",
    "from sklearn.preprocessing import OneHotEncoder,OrdinalEncoder,LabelEncoder\n",
    "from sklearn.metrics import recall_score,precision_score,f1_score,balanced_accuracy_score"
   ]
  },
  {
   "cell_type": "code",
   "execution_count": 3,
   "metadata": {},
   "outputs": [],
   "source": [
    "df = pd.read_csv('diabetes_012_health_indicators_BRFSS2015.csv')"
   ]
  },
  {
   "cell_type": "code",
   "execution_count": 4,
   "metadata": {},
   "outputs": [],
   "source": [
    "df['Diabetes_binary'] = df['Diabetes_012'].apply(lambda x: 1 if x in [1, 2] else 0)"
   ]
  },
  {
   "cell_type": "code",
   "execution_count": 5,
   "metadata": {},
   "outputs": [],
   "source": [
    "df.drop('Diabetes_012',axis=1,inplace=True)"
   ]
  },
  {
   "cell_type": "code",
   "execution_count": 6,
   "metadata": {},
   "outputs": [],
   "source": [
    "X = df.drop(columns=['Diabetes_binary'])\n",
    "y = df['Diabetes_binary']\n",
    "\n",
    "\n",
    "\n",
    "\n",
    "X_train, X_test, y_train, y_test = train_test_split(X, y, train_size=0.8, random_state=42)"
   ]
  },
  {
   "cell_type": "code",
   "execution_count": 8,
   "metadata": {},
   "outputs": [],
   "source": [
    "def return_model_res(df_prep,imputation,model,imb_approach,scaling,y_test,y_hat):\n",
    "\n",
    "    model_results = {'DF prep':df_prep,'Model Name':model.__class__.__name__,\n",
    "                        'Imputaion':imputation,\n",
    "                        'Imbalance Approach': imb_approach,\n",
    "                        'Scaling': scaling,\n",
    "                        'Accuracy':round(accuracy_score(y_test,y_hat),2),\n",
    "                        'Balanced Accuracy':round(balanced_accuracy_score(y_test,y_hat),2),\n",
    "                        'Precision':round(precision_score(y_test,y_hat,average='macro'),2),\n",
    "                        'F1-Score':round(f1_score(y_test,y_hat,average='macro'),2),\n",
    "                        'Recall': round(recall_score(y_test,y_hat,average='macro'),2),\n",
    "                        'ROC_AUC':round(roc_auc_score(y_test,y_hat),2)}\n",
    "    return model_results # returns a dict with the metrics for the chosen model etc"
   ]
  },
  {
   "cell_type": "code",
   "execution_count": 9,
   "metadata": {},
   "outputs": [
    {
     "data": {
      "text/plain": [
       "{'DF prep': None,\n",
       " 'Model Name': 'RandomForestClassifier',\n",
       " 'Imputaion': None,\n",
       " 'Imbalance Approach': None,\n",
       " 'Scaling': 'StandardScaler',\n",
       " 'Accuracy': 0.84,\n",
       " 'Balanced Accuracy': 0.59,\n",
       " 'Precision': 0.68,\n",
       " 'F1-Score': 0.6,\n",
       " 'Recall': 0.59,\n",
       " 'ROC_AUC': 0.59}"
      ]
     },
     "execution_count": 9,
     "metadata": {},
     "output_type": "execute_result"
    }
   ],
   "source": [
    "from sklearn.ensemble import RandomForestClassifier\n",
    "X_train, X_test, y_train, y_test = train_test_split(X, y, test_size=0.2, random_state=42)\n",
    "scaler = StandardScaler()\n",
    "X_train_sc = scaler.fit_transform(X_train)\n",
    "rf = RandomForestClassifier()\n",
    "rf.fit(X_train_sc,y_train)\n",
    "X_test_sc = scaler.transform(X_test)\n",
    "y_pred = rf.predict(X_test_sc)\n",
    "res = return_model_res(None,None,rf,None,\"StandardScaler\",y_test,y_pred)\n",
    "res"
   ]
  },
  {
   "cell_type": "code",
   "execution_count": 11,
   "metadata": {},
   "outputs": [
    {
     "name": "stdout",
     "output_type": "stream",
     "text": [
      "[0 0 1 ... 1 1 1]\n"
     ]
    },
    {
     "data": {
      "text/plain": [
       "{'DF prep': None,\n",
       " 'Model Name': 'RandomForestClassifier',\n",
       " 'Imputaion': None,\n",
       " 'Imbalance Approach': None,\n",
       " 'Scaling': 'StandardScaler',\n",
       " 'Accuracy': 0.73,\n",
       " 'Balanced Accuracy': 0.73,\n",
       " 'Precision': 0.73,\n",
       " 'F1-Score': 0.73,\n",
       " 'Recall': 0.73,\n",
       " 'ROC_AUC': 0.73}"
      ]
     },
     "execution_count": 11,
     "metadata": {},
     "output_type": "execute_result"
    }
   ],
   "source": [
    "from sklearn.utils import resample\n",
    "\n",
    "# Assuming the dataset is already loaded into df and 'Diabetes_binary' is created\n",
    "\n",
    "# Separate majority and minority classes\n",
    "df_majority = df[df.Diabetes_binary == 0]\n",
    "df_minority = df[df.Diabetes_binary == 1]\n",
    "\n",
    "# Downsample majority class\n",
    "df_majority_downsampled = resample(df_majority, \n",
    "                                   replace=False,    # sample without replacement\n",
    "                                   n_samples=len(df_minority), # to match minority class\n",
    "                                   random_state=42)  # reproducible results\n",
    "\n",
    "# Combine minority class with downsampled majority class\n",
    "df_downsampled = pd.concat([df_majority_downsampled, df_minority])\n",
    "\n",
    "# Prepare the feature matrix X and target vector y\n",
    "X = df_downsampled.drop(['Diabetes_binary'], axis=1)\n",
    "y = df_downsampled['Diabetes_binary']\n",
    "\n",
    "# Split the data into training and testing sets\n",
    "X_train, X_test, y_train, y_test = train_test_split(X, y, test_size=0.2, random_state=42)\n",
    "\n",
    "# Standardize the features\n",
    "scaler = StandardScaler()\n",
    "X_train_sc = scaler.fit_transform(X_train)\n",
    "X_test_sc= scaler.transform(X_test)\n",
    "\n",
    "# Train a Random Forest model\n",
    "clf = RandomForestClassifier(random_state=42)\n",
    "clf.fit(X_train_sc, y_train)\n",
    "y_pred = clf.predict(X_test_sc)\n",
    "# conf_matrix = confusion_matrix(y_test, y_pred)\n",
    "# class_report = classification_report(y_test, y_pred)\n",
    "# accuracy= accuracy_score(y_test, y_pred)\n",
    "# recall = recall_score(y_test,y_pred)\n",
    "# print(\"Confusion Matrix:\")\n",
    "# print(conf_matrix)\n",
    "# print(\"\\nClassification Report:\")\n",
    "# print(class_report)\n",
    "# print(\"\\nAccuracy Score:\")\n",
    "# print(accuracy)\n",
    "# print(\"\\nRecall Score:\")\n",
    "# print(recall)\n",
    "print(y_pred)\n",
    "ds_res = return_model_res(None,None,clf,None,\"StandardScaler\",y_test,y_pred)\n",
    "ds_res\n",
    "\n"
   ]
  },
  {
   "cell_type": "code",
   "execution_count": 12,
   "metadata": {},
   "outputs": [
    {
     "data": {
      "image/png": "[encoded data removed]",
      "text/plain": [
       "<Figure size 1200x800 with 1 Axes>"
      ]
     },
     "metadata": {},
     "output_type": "display_data"
    }
   ],
   "source": [
    "# Get feature importances\n",
    "importances = clf.feature_importances_\n",
    "feature_names = X.columns\n",
    "\n",
    "# Create a DataFrame for visualization\n",
    "feature_importances = pd.DataFrame({'Feature': feature_names, 'Importance': importances})\n",
    "feature_importances = feature_importances.sort_values(by='Importance', ascending=False)\n",
    "\n",
    "# Plot feature importances\n",
    "plt.figure(figsize=(12, 8))\n",
    "plt.barh(feature_importances['Feature'], feature_importances['Importance'])\n",
    "plt.xlabel('Feature Importance')\n",
    "plt.ylabel('Feature')\n",
    "plt.title('Feature Importance in Predicting Diabetes (Downsampled Data)')\n",
    "plt.gca().invert_yaxis()\n",
    "plt.show()"
   ]
  },
  {
   "cell_type": "code",
   "execution_count": 13,
   "metadata": {},
   "outputs": [],
   "source": [
    "# List of features to drop\n",
    "features_to_drop = ['NoDocbcCost', 'Stroke', 'HvyAlcoholConsump', 'AnyHealthcare', 'CholCheck']\n",
    "\n",
    "# Drop the features\n",
    "X_selected = X.drop(columns=features_to_drop)\n"
   ]
  },
  {
   "cell_type": "code",
   "execution_count": 14,
   "metadata": {},
   "outputs": [],
   "source": [
    "from sklearn.model_selection import train_test_split\n",
    "\n",
    "# Split the data into training and testing sets\n",
    "X_train, X_test, y_train, y_test = train_test_split(X_selected, y, test_size=0.3, random_state=42)\n"
   ]
  },
  {
   "cell_type": "code",
   "execution_count": 17,
   "metadata": {},
   "outputs": [],
   "source": [
    "from sklearn.ensemble import RandomForestClassifier\n",
    "from sklearn.metrics import classification_report, accuracy_score\n",
    "\n",
    "# Initialize the model\n",
    "rf_model = RandomForestClassifier(n_estimators=100, random_state=42)\n",
    "\n",
    "# Train the model\n",
    "rf_model.fit(X_train, y_train)\n",
    "y_pred = rf_model.predict(X_test)"
   ]
  },
  {
   "cell_type": "code",
   "execution_count": 18,
   "metadata": {},
   "outputs": [
    {
     "data": {
      "text/plain": [
       "{'DF prep': None,\n",
       " 'Model Name': 'RandomForestClassifier',\n",
       " 'Imputaion': None,\n",
       " 'Imbalance Approach': None,\n",
       " 'Scaling': 'StandardScaler',\n",
       " 'Accuracy': 0.73,\n",
       " 'Balanced Accuracy': 0.73,\n",
       " 'Precision': 0.73,\n",
       " 'F1-Score': 0.73,\n",
       " 'Recall': 0.73,\n",
       " 'ROC_AUC': 0.73}"
      ]
     },
     "execution_count": 18,
     "metadata": {},
     "output_type": "execute_result"
    }
   ],
   "source": [
    "fs_res = return_model_res(None,None,rf_model,None,\"StandardScaler\",y_test,y_pred)\n",
    "fs_res\n"
   ]
  },
  {
   "cell_type": "code",
   "execution_count": 21,
   "metadata": {},
   "outputs": [],
   "source": [
    "X_selected = X.drop(columns=features_to_drop)\n",
    "\n",
    "# Split the data into training and testing sets\n",
    "X_train, X_test, y_train, y_test = train_test_split(X_selected, y, test_size=0.3, random_state=42)\n",
    "\n",
    "# Initialize the model\n",
    "rf_model = RandomForestClassifier(n_estimators=180, random_state=42)\n",
    "\n",
    "# Train the model\n",
    "rf_model.fit(X_train, y_train)\n",
    "\n",
    "# Make predictions on the test set\n",
    "y_pred = rf_model.predict(X_test)"
   ]
  },
  {
   "cell_type": "code",
   "execution_count": 22,
   "metadata": {},
   "outputs": [
    {
     "data": {
      "text/plain": [
       "{'DF prep': None,\n",
       " 'Model Name': 'RandomForestClassifier',\n",
       " 'Imputaion': None,\n",
       " 'Imbalance Approach': None,\n",
       " 'Scaling': 'StandardScaler',\n",
       " 'Accuracy': 0.73,\n",
       " 'Balanced Accuracy': 0.73,\n",
       " 'Precision': 0.73,\n",
       " 'F1-Score': 0.73,\n",
       " 'Recall': 0.73,\n",
       " 'ROC_AUC': 0.73}"
      ]
     },
     "execution_count": 22,
     "metadata": {},
     "output_type": "execute_result"
    }
   ],
   "source": [
    "fs_res = return_model_res(None,None,rf_model,None,\"StandardScaler\",y_test,y_pred)\n",
    "fs_res\n"
   ]
  }
 ],
 "metadata": {
  "kernelspec": {
   "display_name": "Python 3",
   "language": "python",
   "name": "python3"
  },
  "language_info": {
   "codemirror_mode": {
    "name": "ipython",
    "version": 3
   },
   "file_extension": ".py",
   "mimetype": "text/x-python",
   "name": "python",
   "nbconvert_exporter": "python",
   "pygments_lexer": "ipython3",
   "version": "3.12.3"
  }
 },
 "nbformat": 4,
 "nbformat_minor": 2
}
